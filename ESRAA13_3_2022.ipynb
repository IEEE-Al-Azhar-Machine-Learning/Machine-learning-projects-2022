{
  "cells": [
    {
      "cell_type": "code",
      "execution_count": null,
      "metadata": {
        "colab": {
          "base_uri": "https://localhost:8080/"
        },
        "id": "3_xeR1dL5yHG",
        "outputId": "e45079d0-ca16-4477-c282-78e050a99c7f"
      },
      "outputs": [
        {
          "name": "stdout",
          "output_type": "stream",
          "text": [
            "Requirement already satisfied: kaggle in /usr/local/lib/python3.7/dist-packages (1.5.12)\n",
            "Requirement already satisfied: urllib3 in /usr/local/lib/python3.7/dist-packages (from kaggle) (1.24.3)\n",
            "Requirement already satisfied: requests in /usr/local/lib/python3.7/dist-packages (from kaggle) (2.23.0)\n",
            "Requirement already satisfied: python-dateutil in /usr/local/lib/python3.7/dist-packages (from kaggle) (2.8.2)\n",
            "Requirement already satisfied: tqdm in /usr/local/lib/python3.7/dist-packages (from kaggle) (4.63.0)\n",
            "Requirement already satisfied: python-slugify in /usr/local/lib/python3.7/dist-packages (from kaggle) (6.1.1)\n",
            "Requirement already satisfied: certifi in /usr/local/lib/python3.7/dist-packages (from kaggle) (2021.10.8)\n",
            "Requirement already satisfied: six>=1.10 in /usr/local/lib/python3.7/dist-packages (from kaggle) (1.15.0)\n",
            "Requirement already satisfied: text-unidecode>=1.3 in /usr/local/lib/python3.7/dist-packages (from python-slugify->kaggle) (1.3)\n",
            "Requirement already satisfied: chardet<4,>=3.0.2 in /usr/local/lib/python3.7/dist-packages (from requests->kaggle) (3.0.4)\n",
            "Requirement already satisfied: idna<3,>=2.5 in /usr/local/lib/python3.7/dist-packages (from requests->kaggle) (2.10)\n"
          ]
        }
      ],
      "source": [
        "!pip install kaggle\n",
        "!mkdir -p ~/.kaggle\n",
        "!cp kaggle.json ~/.kaggle/\n",
        "!chmod 600 ~/.kaggle/kaggle.json\n"
      ]
    },
    {
      "cell_type": "code",
      "execution_count": null,
      "metadata": {
        "colab": {
          "base_uri": "https://localhost:8080/"
        },
        "id": "Bihs14X66X_K",
        "outputId": "2b994a59-ceea-4880-981e-81ed8e6adfc0"
      },
      "outputs": [
        {
          "name": "stdout",
          "output_type": "stream",
          "text": [
            "fashionmnist.zip: Skipping, found more recently modified local copy (use --force to force download)\n"
          ]
        }
      ],
      "source": [
        "!kaggle datasets download -d zalando-research/fashionmnist\n"
      ]
    },
    {
      "cell_type": "code",
      "execution_count": null,
      "metadata": {
        "id": "woIvBeTC6kE9"
      },
      "outputs": [],
      "source": [
        "from zipfile import ZipFile\n",
        "file_name = 'fashionmnist.zip'\n",
        "with ZipFile(file_name, 'r') as zip:\n",
        "  zip.extractall() "
      ]
    },
    {
      "cell_type": "code",
      "execution_count": null,
      "metadata": {
        "id": "oEnHPkPN7Ih6"
      },
      "outputs": [],
      "source": [
        "import pandas as pd\n",
        "data_test = pd.read_csv('fashion-mnist_test.csv')\n",
        "data_train=pd.read_csv('fashion-mnist_train.csv')"
      ]
    },
    {
      "cell_type": "code",
      "execution_count": null,
      "metadata": {
        "colab": {
          "base_uri": "https://localhost:8080/"
        },
        "id": "Wvopn5Xb_cNX",
        "outputId": "0f0b557f-8e9a-48ec-95b9-a3166cf0162e"
      },
      "outputs": [
        {
          "data": {
            "text/plain": [
              "0    2\n",
              "1    9\n",
              "2    6\n",
              "3    0\n",
              "4    3\n",
              "Name: label, dtype: int64"
            ]
          },
          "execution_count": 9,
          "metadata": {},
          "output_type": "execute_result"
        }
      ],
      "source": [
        "y_train = data_train['label']  \n",
        "y_train.head ()"
      ]
    },
    {
      "cell_type": "code",
      "execution_count": null,
      "metadata": {
        "id": "RKsT2eye_itH"
      },
      "outputs": [],
      "source": [
        "import numpy as np\n",
        "x_train = data_train.drop('label',axis=1)\n",
        "x_train\n",
        "xtrn= np.divide(x_train, 255)"
      ]
    },
    {
      "cell_type": "code",
      "execution_count": null,
      "metadata": {
        "id": "AdjG7OT2_5fd"
      },
      "outputs": [],
      "source": [
        "y_test=data_test['label']\n",
        "x_test=data_test.drop('label',axis=1)\n",
        "xtst= np.divide(x_test, 255)"
      ]
    },
    {
      "cell_type": "code",
      "execution_count": null,
      "metadata": {
        "colab": {
          "background_save": true
        },
        "id": "A5qFLCLFAPmm"
      },
      "outputs": [],
      "source": [
        "from sklearn.svm  import SVC \n",
        "s = SVC ( ) \n",
        "s.fit (xtrn, y_train )\n",
        "pred=s.predict(xtst)"
      ]
    },
    {
      "cell_type": "code",
      "execution_count": null,
      "metadata": {
        "colab": {
          "background_save": true
        },
        "id": "c7hDnjcrAdVu",
        "outputId": "4ea2dcb6-60c6-4d7e-a9f7-f12a421e1845"
      },
      "outputs": [
        {
          "name": "stdout",
          "output_type": "stream",
          "text": [
            "0.8921\n"
          ]
        }
      ],
      "source": [
        "from sklearn.metrics import accuracy_score\n",
        "print(accuracy_score(y_test, pred))"
      ]
    }
  ],
  "metadata": {
    "colab": {
      "name": "esraa13-3-2022",
      "provenance": []
    },
    "kernelspec": {
      "display_name": "Python 3",
      "name": "python3"
    },
    "language_info": {
      "name": "python"
    }
  },
  "nbformat": 4,
  "nbformat_minor": 0
}