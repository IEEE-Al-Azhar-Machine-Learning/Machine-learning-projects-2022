{
  "nbformat": 4,
  "nbformat_minor": 0,
  "metadata": {
    "colab": {
      "name": "Esraa 28-3-2022.ipynb",
      "provenance": []
    },
    "kernelspec": {
      "name": "python3",
      "display_name": "Python 3"
    },
    "language_info": {
      "name": "python"
    }
  },
  "cells": [
    {
      "cell_type": "code",
      "source": [
        "from google.colab import drive\n",
        "drive.mount('/content/drive')"
      ],
      "metadata": {
        "colab": {
          "base_uri": "https://localhost:8080/"
        },
        "id": "IiCStBsUr249",
        "outputId": "1c0bec64-4f35-4e64-9eb6-06b500f644e8"
      },
      "execution_count": null,
      "outputs": [
        {
          "output_type": "stream",
          "name": "stdout",
          "text": [
            "Drive already mounted at /content/drive; to attempt to forcibly remount, call drive.mount(\"/content/drive\", force_remount=True).\n"
          ]
        }
      ]
    },
    {
      "cell_type": "code",
      "source": [
        "#read data\n",
        "##########################\n",
        "import pandas as pd\n",
        "data=pd.read_csv('/content/drive/MyDrive/fashal_calawy.csv')"
      ],
      "metadata": {
        "id": "F52TgGfWsDDr"
      },
      "execution_count": null,
      "outputs": []
    },
    {
      "cell_type": "code",
      "source": [
        "#clear  nul\n",
        "###########################\n",
        "data_c=data.columns\n",
        "import numpy as np\n",
        "from sklearn.impute import SimpleImputer\n",
        "imputer=SimpleImputer(missing_values=np.nan,strategy='most_frequent')\n",
        "data=imputer.fit_transform(data)\n",
        "data=pd.DataFrame(data,columns=data_c)"
      ],
      "metadata": {
        "id": "xXiyFSxFsTcq"
      },
      "execution_count": null,
      "outputs": []
    },
    {
      "cell_type": "code",
      "source": [
        "#remove non import coloumns\n",
        "############################\n",
        "data=data.drop(['id','age','wc','ba','ane','pot','bp',\n",
        "'rbc','pcc','cad','su','pc','bgr','dm','appet','pe'],axis=1)"
      ],
      "metadata": {
        "id": "YPaWxrvwsY0z"
      },
      "execution_count": null,
      "outputs": []
    },
    {
      "cell_type": "code",
      "source": [
        "#convert the str to num\n",
        "###############################\n",
        "from sklearn import preprocessing\n",
        "obj=data.select_dtypes(include=['object'])\n",
        "le=preprocessing.LabelEncoder()\n",
        "for i in range(obj.shape[1]):\n",
        "  obj.iloc[:,i]=le.fit_transform(obj.iloc[:,i])\n",
        "nun_obj=data.select_dtypes(exclude=['object'])\n",
        "data=pd.concat([obj,nun_obj],axis=1) "
      ],
      "metadata": {
        "id": "q3TpfyEqseOk"
      },
      "execution_count": null,
      "outputs": []
    },
    {
      "cell_type": "code",
      "source": [
        "#relationship\n",
        "################################\n",
        "c=data.corr()"
      ],
      "metadata": {
        "id": "LD17Ty60sj5O"
      },
      "execution_count": null,
      "outputs": []
    },
    {
      "cell_type": "code",
      "source": [
        "#SPLIT DATA TO X,Y\n",
        "#################################\n",
        "x=data.iloc[:,:-1]\n",
        "y=data.iloc[:,-1]"
      ],
      "metadata": {
        "id": "TrvTxeALskLg"
      },
      "execution_count": null,
      "outputs": []
    },
    {
      "cell_type": "code",
      "source": [
        "#SPLIT DATA TO TRAIN AND TEST\n",
        "###############################\n",
        "from sklearn.model_selection import train_test_split\n",
        "x_train,x_test,y_train,y_test=train_test_split(x,y,train_size=0.80)"
      ],
      "metadata": {
        "id": "DvjFuzkEsuvI"
      },
      "execution_count": null,
      "outputs": []
    },
    {
      "cell_type": "code",
      "source": [
        "from sklearn.ensemble import RandomForestClassifier\n",
        "m=RandomForestClassifier(n_estimators=100,max_depth=10)\n",
        "m.fit(x_train,y_train)\n",
        "print(m.score(x_train,y_train))\n",
        "print(m.score(x_test,y_test))"
      ],
      "metadata": {
        "colab": {
          "base_uri": "https://localhost:8080/"
        },
        "id": "62CLTjyGs0Yq",
        "outputId": "1fe55baf-58f6-49ed-ae3c-18df2827d04a"
      },
      "execution_count": null,
      "outputs": [
        {
          "output_type": "stream",
          "name": "stdout",
          "text": [
            "1.0\n",
            "0.9875\n"
          ]
        }
      ]
    }
  ]
}
