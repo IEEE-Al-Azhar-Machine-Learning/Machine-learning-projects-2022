{
 "cells": [
  {
   "cell_type": "code",
   "execution_count": 1,
   "metadata": {},
   "outputs": [],
   "source": [
    "import pandas as pd\n",
    "import numpy as np\n",
    "import matplotlib.pyplot as plt"
   ]
  },
  {
   "cell_type": "code",
   "execution_count": 2,
   "metadata": {},
   "outputs": [
    {
     "data": {
      "text/html": [
       "<div>\n",
       "<style scoped>\n",
       "    .dataframe tbody tr th:only-of-type {\n",
       "        vertical-align: middle;\n",
       "    }\n",
       "\n",
       "    .dataframe tbody tr th {\n",
       "        vertical-align: top;\n",
       "    }\n",
       "\n",
       "    .dataframe thead th {\n",
       "        text-align: right;\n",
       "    }\n",
       "</style>\n",
       "<table border=\"1\" class=\"dataframe\">\n",
       "  <thead>\n",
       "    <tr style=\"text-align: right;\">\n",
       "      <th></th>\n",
       "      <th>ID</th>\n",
       "      <th>Sex</th>\n",
       "      <th>Marital status</th>\n",
       "      <th>Age</th>\n",
       "      <th>Education</th>\n",
       "      <th>Income</th>\n",
       "      <th>Occupation</th>\n",
       "      <th>Settlement size</th>\n",
       "    </tr>\n",
       "  </thead>\n",
       "  <tbody>\n",
       "    <tr>\n",
       "      <th>0</th>\n",
       "      <td>100000001</td>\n",
       "      <td>0</td>\n",
       "      <td>0</td>\n",
       "      <td>67</td>\n",
       "      <td>2</td>\n",
       "      <td>124670</td>\n",
       "      <td>1</td>\n",
       "      <td>2</td>\n",
       "    </tr>\n",
       "    <tr>\n",
       "      <th>1</th>\n",
       "      <td>100000002</td>\n",
       "      <td>1</td>\n",
       "      <td>1</td>\n",
       "      <td>22</td>\n",
       "      <td>1</td>\n",
       "      <td>150773</td>\n",
       "      <td>1</td>\n",
       "      <td>2</td>\n",
       "    </tr>\n",
       "    <tr>\n",
       "      <th>2</th>\n",
       "      <td>100000003</td>\n",
       "      <td>0</td>\n",
       "      <td>0</td>\n",
       "      <td>49</td>\n",
       "      <td>1</td>\n",
       "      <td>89210</td>\n",
       "      <td>0</td>\n",
       "      <td>0</td>\n",
       "    </tr>\n",
       "    <tr>\n",
       "      <th>3</th>\n",
       "      <td>100000004</td>\n",
       "      <td>0</td>\n",
       "      <td>0</td>\n",
       "      <td>45</td>\n",
       "      <td>1</td>\n",
       "      <td>171565</td>\n",
       "      <td>1</td>\n",
       "      <td>1</td>\n",
       "    </tr>\n",
       "    <tr>\n",
       "      <th>4</th>\n",
       "      <td>100000005</td>\n",
       "      <td>0</td>\n",
       "      <td>0</td>\n",
       "      <td>53</td>\n",
       "      <td>1</td>\n",
       "      <td>149031</td>\n",
       "      <td>1</td>\n",
       "      <td>1</td>\n",
       "    </tr>\n",
       "  </tbody>\n",
       "</table>\n",
       "</div>"
      ],
      "text/plain": [
       "          ID  Sex  Marital status  Age  Education  Income  Occupation  \\\n",
       "0  100000001    0               0   67          2  124670           1   \n",
       "1  100000002    1               1   22          1  150773           1   \n",
       "2  100000003    0               0   49          1   89210           0   \n",
       "3  100000004    0               0   45          1  171565           1   \n",
       "4  100000005    0               0   53          1  149031           1   \n",
       "\n",
       "   Settlement size  \n",
       "0                2  \n",
       "1                2  \n",
       "2                0  \n",
       "3                1  \n",
       "4                1  "
      ]
     },
     "execution_count": 2,
     "metadata": {},
     "output_type": "execute_result"
    }
   ],
   "source": [
    "data = pd.read_csv(\"segmentation data.csv\")\n",
    "data.head()"
   ]
  },
  {
   "cell_type": "code",
   "execution_count": 3,
   "metadata": {},
   "outputs": [],
   "source": [
    "seg_data = data.copy()"
   ]
  },
  {
   "cell_type": "code",
   "execution_count": 4,
   "metadata": {},
   "outputs": [
    {
     "data": {
      "text/html": [
       "<div>\n",
       "<style scoped>\n",
       "    .dataframe tbody tr th:only-of-type {\n",
       "        vertical-align: middle;\n",
       "    }\n",
       "\n",
       "    .dataframe tbody tr th {\n",
       "        vertical-align: top;\n",
       "    }\n",
       "\n",
       "    .dataframe thead th {\n",
       "        text-align: right;\n",
       "    }\n",
       "</style>\n",
       "<table border=\"1\" class=\"dataframe\">\n",
       "  <thead>\n",
       "    <tr style=\"text-align: right;\">\n",
       "      <th></th>\n",
       "      <th>ID</th>\n",
       "      <th>Sex</th>\n",
       "      <th>Marital status</th>\n",
       "      <th>Age</th>\n",
       "      <th>Education</th>\n",
       "      <th>Income</th>\n",
       "      <th>Occupation</th>\n",
       "      <th>Settlement size</th>\n",
       "    </tr>\n",
       "  </thead>\n",
       "  <tbody>\n",
       "    <tr>\n",
       "      <th>0</th>\n",
       "      <td>100000001</td>\n",
       "      <td>male</td>\n",
       "      <td>single</td>\n",
       "      <td>67</td>\n",
       "      <td>university</td>\n",
       "      <td>124670</td>\n",
       "      <td>skilled</td>\n",
       "      <td>big city</td>\n",
       "    </tr>\n",
       "    <tr>\n",
       "      <th>1</th>\n",
       "      <td>100000002</td>\n",
       "      <td>female</td>\n",
       "      <td>non-single</td>\n",
       "      <td>22</td>\n",
       "      <td>high school</td>\n",
       "      <td>150773</td>\n",
       "      <td>skilled</td>\n",
       "      <td>big city</td>\n",
       "    </tr>\n",
       "    <tr>\n",
       "      <th>2</th>\n",
       "      <td>100000003</td>\n",
       "      <td>male</td>\n",
       "      <td>single</td>\n",
       "      <td>49</td>\n",
       "      <td>high school</td>\n",
       "      <td>89210</td>\n",
       "      <td>unskilled</td>\n",
       "      <td>small city</td>\n",
       "    </tr>\n",
       "    <tr>\n",
       "      <th>3</th>\n",
       "      <td>100000004</td>\n",
       "      <td>male</td>\n",
       "      <td>single</td>\n",
       "      <td>45</td>\n",
       "      <td>high school</td>\n",
       "      <td>171565</td>\n",
       "      <td>skilled</td>\n",
       "      <td>mid-sized city</td>\n",
       "    </tr>\n",
       "    <tr>\n",
       "      <th>4</th>\n",
       "      <td>100000005</td>\n",
       "      <td>male</td>\n",
       "      <td>single</td>\n",
       "      <td>53</td>\n",
       "      <td>high school</td>\n",
       "      <td>149031</td>\n",
       "      <td>skilled</td>\n",
       "      <td>mid-sized city</td>\n",
       "    </tr>\n",
       "    <tr>\n",
       "      <th>5</th>\n",
       "      <td>100000006</td>\n",
       "      <td>male</td>\n",
       "      <td>single</td>\n",
       "      <td>35</td>\n",
       "      <td>high school</td>\n",
       "      <td>144848</td>\n",
       "      <td>unskilled</td>\n",
       "      <td>small city</td>\n",
       "    </tr>\n",
       "    <tr>\n",
       "      <th>6</th>\n",
       "      <td>100000007</td>\n",
       "      <td>male</td>\n",
       "      <td>single</td>\n",
       "      <td>53</td>\n",
       "      <td>high school</td>\n",
       "      <td>156495</td>\n",
       "      <td>skilled</td>\n",
       "      <td>mid-sized city</td>\n",
       "    </tr>\n",
       "    <tr>\n",
       "      <th>7</th>\n",
       "      <td>100000008</td>\n",
       "      <td>male</td>\n",
       "      <td>single</td>\n",
       "      <td>35</td>\n",
       "      <td>high school</td>\n",
       "      <td>193621</td>\n",
       "      <td>highly qualified</td>\n",
       "      <td>mid-sized city</td>\n",
       "    </tr>\n",
       "    <tr>\n",
       "      <th>8</th>\n",
       "      <td>100000009</td>\n",
       "      <td>male</td>\n",
       "      <td>non-single</td>\n",
       "      <td>61</td>\n",
       "      <td>university</td>\n",
       "      <td>151591</td>\n",
       "      <td>unskilled</td>\n",
       "      <td>small city</td>\n",
       "    </tr>\n",
       "    <tr>\n",
       "      <th>9</th>\n",
       "      <td>100000010</td>\n",
       "      <td>male</td>\n",
       "      <td>non-single</td>\n",
       "      <td>28</td>\n",
       "      <td>high school</td>\n",
       "      <td>174646</td>\n",
       "      <td>highly qualified</td>\n",
       "      <td>small city</td>\n",
       "    </tr>\n",
       "  </tbody>\n",
       "</table>\n",
       "</div>"
      ],
      "text/plain": [
       "          ID     Sex Marital status  Age    Education  Income  \\\n",
       "0  100000001    male         single   67   university  124670   \n",
       "1  100000002  female     non-single   22  high school  150773   \n",
       "2  100000003    male         single   49  high school   89210   \n",
       "3  100000004    male         single   45  high school  171565   \n",
       "4  100000005    male         single   53  high school  149031   \n",
       "5  100000006    male         single   35  high school  144848   \n",
       "6  100000007    male         single   53  high school  156495   \n",
       "7  100000008    male         single   35  high school  193621   \n",
       "8  100000009    male     non-single   61   university  151591   \n",
       "9  100000010    male     non-single   28  high school  174646   \n",
       "\n",
       "         Occupation Settlement size  \n",
       "0           skilled        big city  \n",
       "1           skilled        big city  \n",
       "2         unskilled      small city  \n",
       "3           skilled  mid-sized city  \n",
       "4           skilled  mid-sized city  \n",
       "5         unskilled      small city  \n",
       "6           skilled  mid-sized city  \n",
       "7  highly qualified  mid-sized city  \n",
       "8         unskilled      small city  \n",
       "9  highly qualified      small city  "
      ]
     },
     "execution_count": 4,
     "metadata": {},
     "output_type": "execute_result"
    }
   ],
   "source": [
    "seg_data[\"Sex\"] = seg_data[\"Sex\"].replace({0:\"male\", 1:\"female\"})\n",
    "seg_data[\"Marital status\"] = seg_data[\"Marital status\"].replace({0:\"single\", 1:\"non-single\"})\n",
    "seg_data[\"Education\"] = seg_data[\"Education\"].replace({0:\"other/unknown\", 1:\"high school\", 2:\"university\", 3:\"graduate school\"})\n",
    "seg_data[\"Occupation\"]= seg_data[\"Occupation\"].replace({0:\"unskilled\", 1:\"skilled\", 2:\"highly qualified\"})\n",
    "seg_data[\"Settlement size\"]= seg_data[\"Settlement size\"].replace({0:\"small city\", 1:\"mid-sized city\", 2:\"big city\"})\n",
    "seg_data.head(10)"
   ]
  },
  {
   "cell_type": "code",
   "execution_count": 5,
   "metadata": {},
   "outputs": [
    {
     "data": {
      "text/html": [
       "<div>\n",
       "<style scoped>\n",
       "    .dataframe tbody tr th:only-of-type {\n",
       "        vertical-align: middle;\n",
       "    }\n",
       "\n",
       "    .dataframe tbody tr th {\n",
       "        vertical-align: top;\n",
       "    }\n",
       "\n",
       "    .dataframe thead th {\n",
       "        text-align: right;\n",
       "    }\n",
       "</style>\n",
       "<table border=\"1\" class=\"dataframe\">\n",
       "  <thead>\n",
       "    <tr style=\"text-align: right;\">\n",
       "      <th></th>\n",
       "      <th>Sex</th>\n",
       "      <th>Marital status</th>\n",
       "      <th>Age</th>\n",
       "      <th>Education</th>\n",
       "      <th>Income</th>\n",
       "      <th>Occupation</th>\n",
       "      <th>Settlement size</th>\n",
       "    </tr>\n",
       "  </thead>\n",
       "  <tbody>\n",
       "    <tr>\n",
       "      <th>0</th>\n",
       "      <td>male</td>\n",
       "      <td>single</td>\n",
       "      <td>67</td>\n",
       "      <td>university</td>\n",
       "      <td>124670</td>\n",
       "      <td>skilled</td>\n",
       "      <td>big city</td>\n",
       "    </tr>\n",
       "    <tr>\n",
       "      <th>1</th>\n",
       "      <td>female</td>\n",
       "      <td>non-single</td>\n",
       "      <td>22</td>\n",
       "      <td>high school</td>\n",
       "      <td>150773</td>\n",
       "      <td>skilled</td>\n",
       "      <td>big city</td>\n",
       "    </tr>\n",
       "    <tr>\n",
       "      <th>2</th>\n",
       "      <td>male</td>\n",
       "      <td>single</td>\n",
       "      <td>49</td>\n",
       "      <td>high school</td>\n",
       "      <td>89210</td>\n",
       "      <td>unskilled</td>\n",
       "      <td>small city</td>\n",
       "    </tr>\n",
       "    <tr>\n",
       "      <th>3</th>\n",
       "      <td>male</td>\n",
       "      <td>single</td>\n",
       "      <td>45</td>\n",
       "      <td>high school</td>\n",
       "      <td>171565</td>\n",
       "      <td>skilled</td>\n",
       "      <td>mid-sized city</td>\n",
       "    </tr>\n",
       "    <tr>\n",
       "      <th>4</th>\n",
       "      <td>male</td>\n",
       "      <td>single</td>\n",
       "      <td>53</td>\n",
       "      <td>high school</td>\n",
       "      <td>149031</td>\n",
       "      <td>skilled</td>\n",
       "      <td>mid-sized city</td>\n",
       "    </tr>\n",
       "  </tbody>\n",
       "</table>\n",
       "</div>"
      ],
      "text/plain": [
       "      Sex Marital status  Age    Education  Income Occupation Settlement size\n",
       "0    male         single   67   university  124670    skilled        big city\n",
       "1  female     non-single   22  high school  150773    skilled        big city\n",
       "2    male         single   49  high school   89210  unskilled      small city\n",
       "3    male         single   45  high school  171565    skilled  mid-sized city\n",
       "4    male         single   53  high school  149031    skilled  mid-sized city"
      ]
     },
     "execution_count": 5,
     "metadata": {},
     "output_type": "execute_result"
    }
   ],
   "source": [
    "seg_data = seg_data.drop([\"ID\"], axis=1)\n",
    "seg_data.head()"
   ]
  },
  {
   "cell_type": "code",
   "execution_count": 6,
   "metadata": {},
   "outputs": [
    {
     "data": {
      "text/html": [
       "<div>\n",
       "<style scoped>\n",
       "    .dataframe tbody tr th:only-of-type {\n",
       "        vertical-align: middle;\n",
       "    }\n",
       "\n",
       "    .dataframe tbody tr th {\n",
       "        vertical-align: top;\n",
       "    }\n",
       "\n",
       "    .dataframe thead th {\n",
       "        text-align: right;\n",
       "    }\n",
       "</style>\n",
       "<table border=\"1\" class=\"dataframe\">\n",
       "  <thead>\n",
       "    <tr style=\"text-align: right;\">\n",
       "      <th></th>\n",
       "      <th>Age</th>\n",
       "      <th>Income</th>\n",
       "    </tr>\n",
       "  </thead>\n",
       "  <tbody>\n",
       "    <tr>\n",
       "      <th>count</th>\n",
       "      <td>2000.000000</td>\n",
       "      <td>2000.000000</td>\n",
       "    </tr>\n",
       "    <tr>\n",
       "      <th>mean</th>\n",
       "      <td>35.909000</td>\n",
       "      <td>120954.419000</td>\n",
       "    </tr>\n",
       "    <tr>\n",
       "      <th>std</th>\n",
       "      <td>11.719402</td>\n",
       "      <td>38108.824679</td>\n",
       "    </tr>\n",
       "    <tr>\n",
       "      <th>min</th>\n",
       "      <td>18.000000</td>\n",
       "      <td>35832.000000</td>\n",
       "    </tr>\n",
       "    <tr>\n",
       "      <th>25%</th>\n",
       "      <td>27.000000</td>\n",
       "      <td>97663.250000</td>\n",
       "    </tr>\n",
       "    <tr>\n",
       "      <th>50%</th>\n",
       "      <td>33.000000</td>\n",
       "      <td>115548.500000</td>\n",
       "    </tr>\n",
       "    <tr>\n",
       "      <th>75%</th>\n",
       "      <td>42.000000</td>\n",
       "      <td>138072.250000</td>\n",
       "    </tr>\n",
       "    <tr>\n",
       "      <th>max</th>\n",
       "      <td>76.000000</td>\n",
       "      <td>309364.000000</td>\n",
       "    </tr>\n",
       "  </tbody>\n",
       "</table>\n",
       "</div>"
      ],
      "text/plain": [
       "               Age         Income\n",
       "count  2000.000000    2000.000000\n",
       "mean     35.909000  120954.419000\n",
       "std      11.719402   38108.824679\n",
       "min      18.000000   35832.000000\n",
       "25%      27.000000   97663.250000\n",
       "50%      33.000000  115548.500000\n",
       "75%      42.000000  138072.250000\n",
       "max      76.000000  309364.000000"
      ]
     },
     "execution_count": 6,
     "metadata": {},
     "output_type": "execute_result"
    }
   ],
   "source": [
    "seg_data.describe()"
   ]
  },
  {
   "cell_type": "code",
   "execution_count": 7,
   "metadata": {
    "scrolled": false
   },
   "outputs": [
    {
     "name": "stdout",
     "output_type": "stream",
     "text": [
      "Sex\n",
      "male      1086\n",
      "female     914\n",
      "Name: Sex, dtype: int64\n",
      "----------------------------------------\n",
      "Marital status\n",
      "single        1007\n",
      "non-single     993\n",
      "Name: Marital status, dtype: int64\n",
      "----------------------------------------\n",
      "Education\n",
      "high school        1386\n",
      "university          291\n",
      "other/unknown       287\n",
      "graduate school      36\n",
      "Name: Education, dtype: int64\n",
      "----------------------------------------\n",
      "Occupation\n",
      "skilled             1113\n",
      "unskilled            633\n",
      "highly qualified     254\n",
      "Name: Occupation, dtype: int64\n",
      "----------------------------------------\n",
      "Settlement size\n",
      "small city        989\n",
      "mid-sized city    544\n",
      "big city          467\n",
      "Name: Settlement size, dtype: int64\n",
      "----------------------------------------\n"
     ]
    }
   ],
   "source": [
    "for col in seg_data: \n",
    "    if seg_data[col].dtypes == \"O\": \n",
    "        print(col)\n",
    "        print(seg_data[col].value_counts())\n",
    "        print(\"-\"*40)"
   ]
  },
  {
   "cell_type": "code",
   "execution_count": 8,
   "metadata": {},
   "outputs": [
    {
     "name": "stdout",
     "output_type": "stream",
     "text": [
      "Sex\n",
      "male      255\n",
      "female     32\n",
      "Name: Sex, dtype: int64\n",
      "----------------------------------------\n",
      "Marital status\n",
      "single    287\n",
      "Name: Marital status, dtype: int64\n",
      "----------------------------------------\n",
      "Education\n",
      "other/unknown    287\n",
      "Name: Education, dtype: int64\n",
      "----------------------------------------\n",
      "Occupation\n",
      "skilled             168\n",
      "unskilled            92\n",
      "highly qualified     27\n",
      "Name: Occupation, dtype: int64\n",
      "----------------------------------------\n",
      "Settlement size\n",
      "small city        136\n",
      "big city           84\n",
      "mid-sized city     67\n",
      "Name: Settlement size, dtype: int64\n",
      "----------------------------------------\n"
     ]
    }
   ],
   "source": [
    "nulls = seg_data[seg_data[\"Education\"]==\"other/unknown\"]\n",
    "\n",
    "for col in nulls: \n",
    "    if nulls[col].dtypes == \"O\": \n",
    "        print(col)\n",
    "        print(nulls[col].value_counts())\n",
    "        print(\"-\"*40)"
   ]
  },
  {
   "cell_type": "code",
   "execution_count": 9,
   "metadata": {},
   "outputs": [
    {
     "data": {
      "text/html": [
       "<div>\n",
       "<style scoped>\n",
       "    .dataframe tbody tr th:only-of-type {\n",
       "        vertical-align: middle;\n",
       "    }\n",
       "\n",
       "    .dataframe tbody tr th {\n",
       "        vertical-align: top;\n",
       "    }\n",
       "\n",
       "    .dataframe thead th {\n",
       "        text-align: right;\n",
       "    }\n",
       "</style>\n",
       "<table border=\"1\" class=\"dataframe\">\n",
       "  <thead>\n",
       "    <tr style=\"text-align: right;\">\n",
       "      <th></th>\n",
       "      <th>Age</th>\n",
       "      <th>Income</th>\n",
       "    </tr>\n",
       "  </thead>\n",
       "  <tbody>\n",
       "    <tr>\n",
       "      <th>count</th>\n",
       "      <td>287.000000</td>\n",
       "      <td>287.000000</td>\n",
       "    </tr>\n",
       "    <tr>\n",
       "      <th>mean</th>\n",
       "      <td>27.407666</td>\n",
       "      <td>115068.212544</td>\n",
       "    </tr>\n",
       "    <tr>\n",
       "      <th>std</th>\n",
       "      <td>3.235134</td>\n",
       "      <td>40058.777044</td>\n",
       "    </tr>\n",
       "    <tr>\n",
       "      <th>min</th>\n",
       "      <td>20.000000</td>\n",
       "      <td>43684.000000</td>\n",
       "    </tr>\n",
       "    <tr>\n",
       "      <th>25%</th>\n",
       "      <td>25.000000</td>\n",
       "      <td>87030.000000</td>\n",
       "    </tr>\n",
       "    <tr>\n",
       "      <th>50%</th>\n",
       "      <td>27.000000</td>\n",
       "      <td>111509.000000</td>\n",
       "    </tr>\n",
       "    <tr>\n",
       "      <th>75%</th>\n",
       "      <td>30.000000</td>\n",
       "      <td>133736.000000</td>\n",
       "    </tr>\n",
       "    <tr>\n",
       "      <th>max</th>\n",
       "      <td>33.000000</td>\n",
       "      <td>255198.000000</td>\n",
       "    </tr>\n",
       "  </tbody>\n",
       "</table>\n",
       "</div>"
      ],
      "text/plain": [
       "              Age         Income\n",
       "count  287.000000     287.000000\n",
       "mean    27.407666  115068.212544\n",
       "std      3.235134   40058.777044\n",
       "min     20.000000   43684.000000\n",
       "25%     25.000000   87030.000000\n",
       "50%     27.000000  111509.000000\n",
       "75%     30.000000  133736.000000\n",
       "max     33.000000  255198.000000"
      ]
     },
     "execution_count": 9,
     "metadata": {},
     "output_type": "execute_result"
    }
   ],
   "source": [
    "nulls.describe()"
   ]
  },
  {
   "cell_type": "code",
   "execution_count": 10,
   "metadata": {},
   "outputs": [
    {
     "data": {
      "image/png": "[encoded data removed]",
      "text/plain": [
       "<Figure size 432x288 with 2 Axes>"
      ]
     },
     "metadata": {
      "needs_background": "light"
     },
     "output_type": "display_data"
    }
   ],
   "source": [
    "fig, ax = plt.subplots()\n",
    "ax.boxplot(seg_data[\"Income\"], positions=[1])\n",
    "ax2 = ax.twinx()\n",
    "ax2.boxplot(seg_data[\"Age\"], positions=[2])\n",
    "ax2.set_xticklabels([\"Income\", \"Age\"])\n",
    "plt.show()"
   ]
  },
  {
   "cell_type": "code",
   "execution_count": 11,
   "metadata": {},
   "outputs": [
    {
     "name": "stdout",
     "output_type": "stream",
     "text": [
      "Age more than 43: 451\n",
      "Age more than 53: 194\n",
      "Age more than 63: 71\n"
     ]
    }
   ],
   "source": [
    "for i in range(43,70,10):\n",
    "    print(\"Age more than\",i,end=\": \")\n",
    "    print(len(seg_data[seg_data[\"Age\"]>i]))"
   ]
  },
  {
   "cell_type": "code",
   "execution_count": null,
   "metadata": {
    "scrolled": false
   },
   "outputs": [],
   "source": [
    "tmp = max(seg_data[\"Income\"])\n",
    "\n",
    "for i in range(300000,0,-50000):\n",
    "    print(f\"Income between {tmp} and {i}\",end=\": \")\n",
    "    outliers = seg_data[(seg_data[\"Income\"]>i) & (seg_data[\"Income\"]<=tmp)]\n",
    "    print(len(outliers))\n",
    "    print()\n",
    "    for col in outliers: \n",
    "        if outliers[col].dtypes == \"O\": \n",
    "            print(col)\n",
    "            print(outliers[col].value_counts())\n",
    "            print(\"-\"*40)\n",
    "    print(\"-\"*40)\n",
    "    print()\n",
    "    tmp = i"
   ]
  },
  {
   "cell_type": "code",
   "execution_count": null,
   "metadata": {},
   "outputs": [],
   "source": [
    "fig, ax = plt.subplots()\n",
    "#ax.boxplot([seg_data[\"Income\"], seg_data[\"Age\"]])\n",
    "ax.boxplot(nulls[\"Income\"], positions=[1])\n",
    "ax2 = ax.twinx()\n",
    "ax2.boxplot(nulls[\"Age\"], positions=[2])\n",
    "ax2.set_xticklabels([\"Income\", \"Age\"])\n",
    "plt.show()"
   ]
  },
  {
   "cell_type": "code",
   "execution_count": null,
   "metadata": {},
   "outputs": [],
   "source": [
    "outliers = seg_data[seg_data[\"Income\"]>250000]\n",
    "for col in seg_data: \n",
    "    if outliers[col].dtypes == \"O\": \n",
    "        print(col)\n",
    "        print(outliers[col].value_counts())\n",
    "        print(\"-\"*40)"
   ]
  },
  {
   "cell_type": "code",
   "execution_count": null,
   "metadata": {},
   "outputs": [],
   "source": [
    "sub_cat =[]\n",
    "sub_cat.append(list(seg_data[\"Occupation\"].unique()))\n",
    "sub_cat.append(list(seg_data[\"Education\"].unique()))"
   ]
  },
  {
   "cell_type": "code",
   "execution_count": null,
   "metadata": {},
   "outputs": [],
   "source": [
    "fig, ax = plt.subplots(figsize=(10,7))\n",
    "\n",
    "x ={}\n",
    "for i in sub_cat[0]:\n",
    "    for j in sub_cat[1]:\n",
    "        sub_data = seg_data[(seg_data[\"Occupation\"]==i) & (seg_data[\"Education\"]==j)]\n",
    "        x[f\"{i} / {j}\"] = sub_data[\"Income\"].sum() / sub_data[\"Income\"].count()\n",
    "\n",
    "ax.barh(list(x.keys()),x.values())\n",
    "ax.set_title(\"Income Mean\")\n",
    "plt.show()"
   ]
  },
  {
   "cell_type": "code",
   "execution_count": null,
   "metadata": {},
   "outputs": [],
   "source": []
  },
  {
   "cell_type": "code",
   "execution_count": null,
   "metadata": {},
   "outputs": [],
   "source": [
    "data = data.drop([\"ID\"], axis=1)\n",
    "X = data[data[\"Education\"] != 0]\n",
    "y = X[\"Education\"]\n",
    "X = X.drop([\"Education\"], axis=1)\n",
    "print(y.shape)"
   ]
  },
  {
   "cell_type": "code",
   "execution_count": null,
   "metadata": {},
   "outputs": [],
   "source": [
    "from sklearn.preprocessing import MinMaxScaler\n",
    "s = MinMaxScaler()\n",
    "X=s.fit_transform(X)"
   ]
  },
  {
   "cell_type": "code",
   "execution_count": null,
   "metadata": {},
   "outputs": [],
   "source": [
    "from sklearn.model_selection import train_test_split\n",
    "X_train, X_test, y_train, y_test = train_test_split(X, y, test_size = 0.25, random_state = 8)\n",
    "X_train.shape, X_test.shape, y_train.shape, y_test.shape "
   ]
  },
  {
   "cell_type": "code",
   "execution_count": null,
   "metadata": {},
   "outputs": [],
   "source": [
    "from sklearn.neighbors import KNeighborsClassifier\n",
    "knn = KNeighborsClassifier(n_neighbors=5)\n",
    "knn.fit(X_train, y_train)"
   ]
  },
  {
   "cell_type": "code",
   "execution_count": null,
   "metadata": {},
   "outputs": [],
   "source": [
    "from sklearn.metrics import confusion_matrix, accuracy_score\n",
    "y_pred = knn.predict(X_test)\n",
    "cm = confusion_matrix(y_test, y_pred)\n",
    "print(cm)\n",
    "accuracy_score(y_test, y_pred)"
   ]
  },
  {
   "cell_type": "code",
   "execution_count": null,
   "metadata": {},
   "outputs": [],
   "source": [
    "X_train = X\n",
    "X_test = data[data[\"Education\"] == 0]\n",
    "X_test = X_test.drop([\"Education\"], axis = 1)\n",
    "X_test = s.fit_transform(X_test)\n",
    "y_train = y"
   ]
  },
  {
   "cell_type": "code",
   "execution_count": null,
   "metadata": {},
   "outputs": [],
   "source": [
    "X_train.shape"
   ]
  },
  {
   "cell_type": "code",
   "execution_count": null,
   "metadata": {},
   "outputs": [],
   "source": [
    "knn = KNeighborsClassifier(n_neighbors=5)\n",
    "knn.fit(X_train, y_train)"
   ]
  },
  {
   "cell_type": "code",
   "execution_count": null,
   "metadata": {},
   "outputs": [],
   "source": [
    "y_pred = knn.predict(X_test)\n",
    "y=list(y)"
   ]
  },
  {
   "cell_type": "code",
   "execution_count": null,
   "metadata": {},
   "outputs": [],
   "source": [
    "X = pd.DataFrame(X, columns=[\"Sex\", \"Marital status\", \"Age\", \"Income\", \"Occupation\", \"Settlement size\"])\n",
    "X[\"Education\"] = y\n",
    "X"
   ]
  },
  {
   "cell_type": "code",
   "execution_count": null,
   "metadata": {},
   "outputs": [],
   "source": [
    "new = pd.DataFrame(X_test, columns=[\"Sex\", \"Marital status\", \"Age\", \"Income\", \"Occupation\", \"Settlement size\"])"
   ]
  },
  {
   "cell_type": "code",
   "execution_count": null,
   "metadata": {},
   "outputs": [],
   "source": [
    "new[\"Education\"] = y_pred\n",
    "X = pd.DataFrame(X, columns=[\"Sex\", \"Marital status\", \"Age\", \"Income\", \"Occupation\", \"Settlement size\"])\n",
    "X[\"Education\"] = y\n",
    "new = new.append(X, ignore_index = True)\n",
    "new"
   ]
  },
  {
   "cell_type": "code",
   "execution_count": null,
   "metadata": {},
   "outputs": [],
   "source": [
    "X.isnull().sum()"
   ]
  },
  {
   "cell_type": "code",
   "execution_count": null,
   "metadata": {},
   "outputs": [],
   "source": [
    "from sklearn.cluster import KMeans\n",
    "error=[]\n",
    "k_range=range(1,18)\n",
    "for k in k_range:\n",
    "    km=KMeans(n_clusters=k)\n",
    "    km.fit(new)\n",
    "    error.append(km.inertia_)\n",
    "\n",
    "from matplotlib import pyplot as plt \n",
    "plt.plot(k_range,error)"
   ]
  },
  {
   "cell_type": "code",
   "execution_count": null,
   "metadata": {},
   "outputs": [],
   "source": [
    "from sklearn.cluster import KMeans\n",
    "km=KMeans(n_clusters=5)\n",
    "y=km.fit_predict(new)\n",
    "new=pd.DataFrame(new)\n",
    "new['y']=y\n",
    "new"
   ]
  },
  {
   "cell_type": "code",
   "execution_count": null,
   "metadata": {},
   "outputs": [],
   "source": []
  }
 ],
 "metadata": {
  "kernelspec": {
   "display_name": "Python 3",
   "language": "python",
   "name": "python3"
  },
  "language_info": {
   "codemirror_mode": {
    "name": "ipython",
    "version": 3
   },
   "file_extension": ".py",
   "mimetype": "text/x-python",
   "name": "python",
   "nbconvert_exporter": "python",
   "pygments_lexer": "ipython3",
   "version": "3.7.3"
  }
 },
 "nbformat": 4,
 "nbformat_minor": 2
}
